{
  "nbformat": 4,
  "nbformat_minor": 0,
  "metadata": {
    "colab": {
      "provenance": [],
      "authorship_tag": "ABX9TyN6EOrlx7TQeIxRlr875u38",
      "include_colab_link": true
    },
    "kernelspec": {
      "name": "python3",
      "display_name": "Python 3"
    },
    "language_info": {
      "name": "python"
    }
  },
  "cells": [
    {
      "cell_type": "markdown",
      "metadata": {
        "id": "view-in-github",
        "colab_type": "text"
      },
      "source": [
        "<a href=\"https://colab.research.google.com/github/uday-1729/Programs/blob/main/CEST_Q2.ipynb\" target=\"_parent\"><img src=\"https://colab.research.google.com/assets/colab-badge.svg\" alt=\"Open In Colab\"/></a>"
      ]
    },
    {
      "cell_type": "code",
      "execution_count": 46,
      "metadata": {
        "id": "qR-DeHxFabei"
      },
      "outputs": [],
      "source": [
        "import numpy as np\n",
        "import scipy as sp\n",
        "import matplotlib.pyplot as plt\n",
        "from scipy.linalg import expm\n",
        "import math\n",
        "\n",
        "pi = math.pi"
      ]
    },
    {
      "cell_type": "code",
      "source": [
        "# Populations of the two states Pa and Pb\n",
        "Pa = 0.95\n",
        "Pb = 1 - Pa\n",
        "\n",
        "del_w = -480\n",
        "\n",
        "# A exchange time period of 73 sec\n",
        "Kex = 73\n",
        "\n",
        "# Field strength of 15Hz is taken for this example\n",
        "w1 = 2*pi*15\n",
        "w1c = w1*math.cos(0)\n",
        "w1s = w1*math.sin(0)\n",
        "\n",
        "# Individual rate constants of the two states\n",
        "Kab = Pa * Kex\n",
        "Kba = Pb * Kex\n",
        "\n",
        "# Relaxation rate constants of the two states\n",
        "R1_a = 1.7\n",
        "R2_a = 15\n",
        "\n",
        "R1_b = 2\n",
        "R2_b = 25\n",
        "\n",
        "# R1_a = R1_b = 1\n",
        "\n",
        "# R2_a = R2_b =10\n",
        "\n",
        "# Inital M0 matrix for final calculations\n",
        "M0 = np.zeros(shape=(7,1))\n",
        "M0[0,0] = 0.5\n",
        "M0[3,0] = Pa\n",
        "M0[6,0] = Pb\n",
        "I0 = 1\n",
        "\n",
        "omg = np.arange(-900 , 915 , 15)\n",
        "\n",
        "wa = (omg - 80)*2*pi\n",
        "\n",
        "# wa = 80\n",
        "\n",
        "wb = (omg - del_w)*2*pi\n",
        "\n",
        "T_ex = 0.3"
      ],
      "metadata": {
        "id": "Hisg9TNCa4mj"
      },
      "execution_count": 51,
      "outputs": []
    },
    {
      "cell_type": "code",
      "source": [
        "I_fin = []\n",
        "# for x in range(0 ,len(wa)):\n",
        "for x in range(0,len(omg)):\n",
        "    M = np.array([[0, 0, 0, 0, 0, 0, 0],\n",
        "        [0 , (-R2_a - Kab), -wa[x] , w1s , Kba , 0 , 0],\n",
        "        [0 , wa[x] , (-R2_a-Kab) , -w1c , 0 , Kba , 0],\n",
        "        [2*(R1_a*Pa)*I0 , -w1s , w1c , (-R1_a-Kab), 0 , 0 , Kba],\n",
        "        [0 , Kab , 0 , 0 , -R2_b - Kba, -(wb[x]) , w1s ],\n",
        "        [0, 0, Kab , 0, wb[x], (-R2_b - Kba ), -w1c],\n",
        "        [2 * (R1_b * Pb)*I0, 0 , 0 , Kab , -w1s, w1c, (-R1_b - Kba)],\n",
        "    ])\n",
        "\n",
        "    Mt = sp.linalg.expm(M)\n",
        "\n",
        "    I = np.dot((Mt*T_ex) , M0)\n",
        "\n",
        "    I0 = M0[3,0]\n",
        "\n",
        "    I_ratio = np.divide(I , I0)\n",
        "\n",
        "    I_fin.append(I_ratio[3,0])"
      ],
      "metadata": {
        "id": "dwqZKXd3a8og"
      },
      "execution_count": 52,
      "outputs": []
    },
    {
      "cell_type": "code",
      "source": [
        "fig = plt.figure(figsize = (10 ,8))\n",
        "plt.plot(omg , I_fin , 'o-' , markerfacecolor = 'red')\n",
        "plt.xlim(-900 , 900 )\n",
        "plt.xlabel(r\"$^{15}$N (ppm)\" , fontsize = 14)\n",
        "plt.ylabel(r\"I/I$^{0}$\" , fontsize = 14)\n",
        "plt.xticks([i for i  in range(-900,915, 100)])\n",
        "plt.legend()\n",
        "plt.show()"
      ],
      "metadata": {
        "id": "WbxE0QLXa_ZR"
      },
      "execution_count": null,
      "outputs": []
    }
  ]
}